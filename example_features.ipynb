{
 "cells": [
  {
   "cell_type": "markdown",
   "metadata": {},
   "source": [
    "### Feature example\n",
    "This notebook illustrates how the feature matrices are generated from a binary array (where 1s correspond to vegetated/permeable cells and 0s correspond to bare/impermeable cells).\n"
   ]
  },
  {
   "cell_type": "code",
   "execution_count": 22,
   "metadata": {},
   "outputs": [],
   "source": [
    "import numpy as np\n",
    "import matplotlib.pylab as plt\n",
    "import warnings\n",
    "warnings.filterwarnings('ignore')\n",
    "\n",
    "import gzip\n",
    "import shutil, os, sys\n",
    "import pandas as pd\n",
    "import json\n",
    "\n",
    "%matplotlib inline"
   ]
  },
  {
   "cell_type": "code",
   "execution_count": 23,
   "metadata": {},
   "outputs": [],
   "source": [
    "current_dir = os.getcwd()\n",
    "for mod in ['plot_functions', 'feature_functions']:\n",
    "    if mod in sys.modules: \n",
    "        del sys.modules[mod]\n",
    "\n",
    "from feature_functions import *   \n",
    "from plot_functions import *\n"
   ]
  },
  {
   "cell_type": "code",
   "execution_count": 24,
   "metadata": {},
   "outputs": [],
   "source": [
    "# Print some details about the simulation notebook\n",
    "example_name = \"example_image\" # should correspond to one of the example subdirectories\n",
    "# example_name = \"example_rain\" \n",
    "example_dir = \"/\".join([current_dir,example_name])\n",
    "fname = \"/\".join([example_name,'params.json'])\n",
    "params = json.load(open(fname))\n"
   ]
  },
  {
   "cell_type": "code",
   "execution_count": 25,
   "metadata": {},
   "outputs": [],
   "source": [
    "# Load SVE-R simulation\n",
    "sim_file = '/'.join([example_dir,  'sim.pklz' ]) \n",
    "f = gzip.open(sim_file,'rb')\n",
    "sim = pickle.load(f) \n",
    "f.close()  \n",
    "sim = pd.Series(sim)"
   ]
  },
  {
   "cell_type": "code",
   "execution_count": 26,
   "metadata": {},
   "outputs": [],
   "source": [
    "# specify parameters to generate the features\n",
    "rvl_params = {'edge': 1, 'saturate' : 50,  'gsigma' : [0, 2]} \n",
    "# dictionary of feature arrays \n",
    "pattern_dict = RF_patterns(sim.isvegc, rvl_params)\n",
    "\n",
    "pattern_dict['d2divide'] = sim['d2divide']\n",
    "# get list of features from pattern_dict\n",
    "feature_keys =  pattern_dict.keys() \n",
    "# lists of vegetated and bare cell features\n",
    "veg_feat = [feat for feat in feature_keys if 'B' in feat] + ['d2divide']\n",
    "bare_feat = [feat for feat in feature_keys if 'V' in feat] + ['d2divide']"
   ]
  },
  {
   "cell_type": "code",
   "execution_count": 27,
   "metadata": {},
   "outputs": [
    {
     "data": {
      "text/html": [
       "<div>\n",
       "<style scoped>\n",
       "    .dataframe tbody tr th:only-of-type {\n",
       "        vertical-align: middle;\n",
       "    }\n",
       "\n",
       "    .dataframe tbody tr th {\n",
       "        vertical-align: top;\n",
       "    }\n",
       "\n",
       "    .dataframe thead th {\n",
       "        text-align: right;\n",
       "    }\n",
       "</style>\n",
       "<table border=\"1\" class=\"dataframe\">\n",
       "  <thead>\n",
       "    <tr style=\"text-align: right;\">\n",
       "      <th></th>\n",
       "      <th>bareLV</th>\n",
       "      <th>bareLV_s2</th>\n",
       "      <th>d2dB</th>\n",
       "      <th>d2dB_s2</th>\n",
       "      <th>d2dV</th>\n",
       "      <th>d2dV_s2</th>\n",
       "      <th>d2divide</th>\n",
       "      <th>d2uB</th>\n",
       "      <th>d2uB_s2</th>\n",
       "      <th>d2uV</th>\n",
       "      <th>d2uV_s2</th>\n",
       "      <th>d2xB</th>\n",
       "      <th>d2xB_s2</th>\n",
       "      <th>d2xV</th>\n",
       "      <th>d2xV_s2</th>\n",
       "      <th>fV</th>\n",
       "      <th>isvegc</th>\n",
       "      <th>patchLB</th>\n",
       "      <th>patchLB_s2</th>\n",
       "      <th>zinflc</th>\n",
       "    </tr>\n",
       "  </thead>\n",
       "  <tbody>\n",
       "    <tr>\n",
       "      <th>0</th>\n",
       "      <td>0.0</td>\n",
       "      <td>0</td>\n",
       "      <td>2</td>\n",
       "      <td>3</td>\n",
       "      <td>0</td>\n",
       "      <td>0</td>\n",
       "      <td>39.5</td>\n",
       "      <td>9</td>\n",
       "      <td>9</td>\n",
       "      <td>0</td>\n",
       "      <td>0</td>\n",
       "      <td>2</td>\n",
       "      <td>3</td>\n",
       "      <td>0</td>\n",
       "      <td>0</td>\n",
       "      <td>0.70125</td>\n",
       "      <td>1.0</td>\n",
       "      <td>3.0</td>\n",
       "      <td>3</td>\n",
       "      <td>0.428406</td>\n",
       "    </tr>\n",
       "    <tr>\n",
       "      <th>1</th>\n",
       "      <td>0.0</td>\n",
       "      <td>0</td>\n",
       "      <td>3</td>\n",
       "      <td>3</td>\n",
       "      <td>0</td>\n",
       "      <td>0</td>\n",
       "      <td>38.5</td>\n",
       "      <td>8</td>\n",
       "      <td>8</td>\n",
       "      <td>0</td>\n",
       "      <td>0</td>\n",
       "      <td>2</td>\n",
       "      <td>3</td>\n",
       "      <td>0</td>\n",
       "      <td>0</td>\n",
       "      <td>0.70125</td>\n",
       "      <td>1.0</td>\n",
       "      <td>3.0</td>\n",
       "      <td>3</td>\n",
       "      <td>0.449244</td>\n",
       "    </tr>\n",
       "    <tr>\n",
       "      <th>2</th>\n",
       "      <td>0.0</td>\n",
       "      <td>0</td>\n",
       "      <td>4</td>\n",
       "      <td>4</td>\n",
       "      <td>0</td>\n",
       "      <td>0</td>\n",
       "      <td>37.5</td>\n",
       "      <td>7</td>\n",
       "      <td>8</td>\n",
       "      <td>0</td>\n",
       "      <td>0</td>\n",
       "      <td>2</td>\n",
       "      <td>3</td>\n",
       "      <td>0</td>\n",
       "      <td>0</td>\n",
       "      <td>0.70125</td>\n",
       "      <td>1.0</td>\n",
       "      <td>3.0</td>\n",
       "      <td>3</td>\n",
       "      <td>0.498058</td>\n",
       "    </tr>\n",
       "    <tr>\n",
       "      <th>3</th>\n",
       "      <td>0.0</td>\n",
       "      <td>0</td>\n",
       "      <td>5</td>\n",
       "      <td>5</td>\n",
       "      <td>0</td>\n",
       "      <td>0</td>\n",
       "      <td>36.5</td>\n",
       "      <td>6</td>\n",
       "      <td>7</td>\n",
       "      <td>0</td>\n",
       "      <td>0</td>\n",
       "      <td>2</td>\n",
       "      <td>3</td>\n",
       "      <td>0</td>\n",
       "      <td>0</td>\n",
       "      <td>0.70125</td>\n",
       "      <td>1.0</td>\n",
       "      <td>3.0</td>\n",
       "      <td>3</td>\n",
       "      <td>0.554747</td>\n",
       "    </tr>\n",
       "    <tr>\n",
       "      <th>4</th>\n",
       "      <td>0.0</td>\n",
       "      <td>0</td>\n",
       "      <td>6</td>\n",
       "      <td>5</td>\n",
       "      <td>0</td>\n",
       "      <td>0</td>\n",
       "      <td>35.5</td>\n",
       "      <td>5</td>\n",
       "      <td>6</td>\n",
       "      <td>0</td>\n",
       "      <td>0</td>\n",
       "      <td>2</td>\n",
       "      <td>3</td>\n",
       "      <td>0</td>\n",
       "      <td>0</td>\n",
       "      <td>0.70125</td>\n",
       "      <td>1.0</td>\n",
       "      <td>3.0</td>\n",
       "      <td>3</td>\n",
       "      <td>0.613867</td>\n",
       "    </tr>\n",
       "  </tbody>\n",
       "</table>\n",
       "</div>"
      ],
      "text/plain": [
       "   bareLV  bareLV_s2  d2dB  d2dB_s2  d2dV  d2dV_s2  d2divide  d2uB  d2uB_s2  \\\n",
       "0     0.0          0     2        3     0        0      39.5     9        9   \n",
       "1     0.0          0     3        3     0        0      38.5     8        8   \n",
       "2     0.0          0     4        4     0        0      37.5     7        8   \n",
       "3     0.0          0     5        5     0        0      36.5     6        7   \n",
       "4     0.0          0     6        5     0        0      35.5     5        6   \n",
       "\n",
       "   d2uV  d2uV_s2  d2xB  d2xB_s2  d2xV  d2xV_s2       fV  isvegc  patchLB  \\\n",
       "0     0        0     2        3     0        0  0.70125     1.0      3.0   \n",
       "1     0        0     2        3     0        0  0.70125     1.0      3.0   \n",
       "2     0        0     2        3     0        0  0.70125     1.0      3.0   \n",
       "3     0        0     2        3     0        0  0.70125     1.0      3.0   \n",
       "4     0        0     2        3     0        0  0.70125     1.0      3.0   \n",
       "\n",
       "   patchLB_s2    zinflc  \n",
       "0           3  0.428406  \n",
       "1           3  0.449244  \n",
       "2           3  0.498058  \n",
       "3           3  0.554747  \n",
       "4           3  0.613867  "
      ]
     },
     "execution_count": 27,
     "metadata": {},
     "output_type": "execute_result"
    }
   ],
   "source": [
    "# get feature maxtrix with associated target variable (infiltration depth \"zinflc\")\n",
    "# columns in pattern_ravel are \"raveled\" versions of pattern_dict entries\n",
    "pattern_ravel = get_feature_matrix(sim,rvl_params,'zinflc')\n",
    "pattern_ravel.head()"
   ]
  },
  {
   "cell_type": "code",
   "execution_count": 30,
   "metadata": {},
   "outputs": [
    {
     "data": {
      "text/plain": [
       "Text(0.5,1,'Length of upslope vegetated patch')"
      ]
     },
     "execution_count": 30,
     "metadata": {},
     "output_type": "execute_result"
    },
    {
     "data": {
      "image/png": "[encoded data removed]",
      "text/plain": [
       "<Figure size 936x432 with 5 Axes>"
      ]
     },
     "metadata": {},
     "output_type": "display_data"
    }
   ],
   "source": [
    "# Example feature maps\n",
    "plt.figure(figsize = (13,6), )\n",
    "plt.subplots_adjust(wspace = 0.2)\n",
    "\n",
    "ax = plt.subplot(131)\n",
    "colormap(sim, pattern_dict['isvegc'], ax, cmap = 'Greens', colorbar=False)\n",
    "ax.set_title('Input vegetation map')\n",
    "\n",
    "\n",
    "ax = plt.subplot(132)\n",
    "colormap(sim, pattern_dict['patchLB'], ax, cfontsize=14, cmap = \"Greens\")\n",
    "ax.set_title('Length of upslope bare soil arera')\n",
    "\n",
    "\n",
    "ax = plt.subplot(133)\n",
    "colormap(sim, pattern_dict['bareLV'], ax, cfontsize=14, cmap = \"Greens\")\n",
    "ax.set_title('Length of upslope vegetated patch')\n"
   ]
  },
  {
   "cell_type": "code",
   "execution_count": 31,
   "metadata": {},
   "outputs": [
    {
     "data": {
      "text/plain": [
       "Text(0.5,1,'Distance to upslope bare soil cell')"
      ]
     },
     "execution_count": 31,
     "metadata": {},
     "output_type": "execute_result"
    },
    {
     "data": {
      "image/png": "[encoded data removed]",
      "text/plain": [
       "<Figure size 936x432 with 5 Axes>"
      ]
     },
     "metadata": {},
     "output_type": "display_data"
    }
   ],
   "source": [
    "# More example feature maps\n",
    "plt.figure(figsize = (13,6), )\n",
    "plt.subplots_adjust(wspace = 0.2)\n",
    "ax = plt.subplot(131)\n",
    "colormap(sim, pattern_dict['isvegc'], ax, cmap = 'Greens', colorbar=False)\n",
    "ax.set_title('Input vegetation map')\n",
    "\n",
    "ax = plt.subplot(132)\n",
    "colormap(sim, pattern_dict['d2uV'], ax, cfontsize=14,colorbar = True, cmap = \"Greens\")\n",
    "ax.set_title('Distance to upslope vegetated cell')\n",
    "\n",
    "ax = plt.subplot(133)\n",
    "colormap(sim, pattern_dict['d2uB'], ax, cfontsize=14,colorbar = True,cmap = \"Greens\")\n",
    "ax.set_title('Distance to upslope bare soil cell')"
   ]
  },
  {
   "cell_type": "code",
   "execution_count": 32,
   "metadata": {},
   "outputs": [
    {
     "data": {
      "image/png": "[encoded data removed]",
      "text/plain": [
       "<Figure size 806.4x360 with 4 Axes>"
      ]
     },
     "metadata": {},
     "output_type": "display_data"
    }
   ],
   "source": [
    "# Core feature examples from left to right: \n",
    "# \n",
    "fig = plt.figure(figsize= (11.2,5.))\n",
    "plt.subplots_adjust(wspace = 0.2)\n",
    "\n",
    "ax1 = plt.subplot(141)\n",
    "colormap(sim,  pattern_dict['d2uB'], ax = ax1,   colorbar = False, cmap = \"Greens\")\n",
    "\n",
    "\n",
    "ax1 = plt.subplot(142)\n",
    "colormap(sim,  pattern_dict['d2xB'], ax = ax1,   colorbar = False, cmap = \"Greens\")\n",
    "\n",
    "\n",
    "ax1 = plt.subplot(143)\n",
    "cplot = colormap(sim,  pattern_dict['d2dB'], ax = ax1,   colorbar = False,cmap = \"Greens\")\n",
    "\n",
    "ax1 = plt.subplot(144)\n",
    "cplot = colormap(sim,  pattern_dict['patchLB'], ax = ax1,  colorbar = False,cmap = \"Greens\")\n",
    "\n",
    "\n",
    "for i, label in enumerate(('A', 'B', 'C', 'D')):\n",
    "    ax = plt.subplot(1,4,i+1)\n",
    "    ax.text(-0.05, 1.08, label, transform=ax.transAxes,\n",
    "      fontsize=16, fontweight='bold', va='top')\n"
   ]
  },
  {
   "cell_type": "code",
   "execution_count": 33,
   "metadata": {},
   "outputs": [
    {
     "data": {
      "image/png": "[encoded data removed]",
      "text/plain": [
       "<Figure size 806.4x360 with 4 Axes>"
      ]
     },
     "metadata": {},
     "output_type": "display_data"
    }
   ],
   "source": [
    "## Illustrating the effects of feature smoothing\n",
    "fig = plt.figure(figsize= (11.2,5.))\n",
    "plt.subplots_adjust(wspace = 0.2)\n",
    "\n",
    "ax1 = plt.subplot(141)\n",
    "colormap(sim,  pattern_dict['d2uB_s2'], ax = ax1,   colorbar = False,  cmap = \"Greens\")\n",
    "\n",
    "ax1 = plt.subplot(142)\n",
    "colormap(sim,  pattern_dict['d2xB_s2'], ax = ax1,   colorbar = False,  cmap = \"Greens\")\n",
    "\n",
    "ax1 = plt.subplot(143)\n",
    "cplot = colormap(sim,  pattern_dict['d2dB_s2'], ax = ax1,   colorbar = False,  cmap = \"Greens\")\n",
    "\n",
    "ax1 = plt.subplot(144)\n",
    "cplot = colormap(sim,  pattern_dict['patchLB_s2'], ax = ax1,   colorbar = False,  cmap = \"Greens\")\n",
    "\n",
    "\n",
    "for i, label in enumerate(('A', 'B', 'C', 'D')):\n",
    "    ax = plt.subplot(1,4,i+1)\n",
    "    ax.text(-0.05, 1.08, label, transform=ax.transAxes,\n",
    "      fontsize=16, fontweight='bold', va='top')\n"
   ]
  }
 ],
 "metadata": {
  "kernelspec": {
   "display_name": "Python 2",
   "language": "python",
   "name": "python2"
  },
  "language_info": {
   "codemirror_mode": {
    "name": "ipython",
    "version": 2
   },
   "file_extension": ".py",
   "mimetype": "text/x-python",
   "name": "python",
   "nbconvert_exporter": "python",
   "pygments_lexer": "ipython2",
   "version": "2.7.15"
  },
  "toc": {
   "colors": {
    "hover_highlight": "#DAA520",
    "navigate_num": "#000000",
    "navigate_text": "#333333",
    "running_highlight": "#FF0000",
    "selected_highlight": "#FFD700",
    "sidebar_border": "#EEEEEE",
    "wrapper_background": "#FFFFFF"
   },
   "moveMenuLeft": true,
   "nav_menu": {
    "height": "12px",
    "width": "252px"
   },
   "navigate_menu": true,
   "number_sections": true,
   "sideBar": true,
   "threshold": 4,
   "toc_cell": false,
   "toc_section_display": "block",
   "toc_window_display": false,
   "widenNotebook": false
  }
 },
 "nbformat": 4,
 "nbformat_minor": 2
}
