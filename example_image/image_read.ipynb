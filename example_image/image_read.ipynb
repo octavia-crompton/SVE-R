{
 "cells": [
  {
   "cell_type": "markdown",
   "metadata": {},
   "source": [
    "## Image processing example\n",
    "Illustrates how  an image is regridded to fit the prescribed hillslope dimensions."
   ]
  },
  {
   "cell_type": "code",
   "execution_count": 1,
   "metadata": {
    "scrolled": true
   },
   "outputs": [],
   "source": [
    "from scipy import misc\n",
    "import imageio\n",
    "import matplotlib.pyplot as plt\n",
    "from scipy import misc\n",
    "import numpy as np\n",
    "from skimage import io\n",
    "from skimage import color\n",
    "import os, sys\n",
    "from os.path import dirname\n",
    "parent_dir = (dirname(os.getcwd()))\n",
    "current_dir = (os.getcwd())\n",
    "sys.path.append(parent_dir )\n",
    "\n",
    "from mpl_toolkits.axes_grid1 import make_axes_locatable\n",
    "from scipy.interpolate import RegularGridInterpolator"
   ]
  },
  {
   "cell_type": "code",
   "execution_count": 4,
   "metadata": {},
   "outputs": [],
   "source": [
    "image_file = 'imp_fract_0.304.JPG'\n",
    "\n",
    "filepath= '/'.join([current_dir, image_file])"
   ]
  },
  {
   "cell_type": "code",
   "execution_count": 9,
   "metadata": {},
   "outputs": [],
   "source": [
    "#  three parameters: threshold, trim and scale, which you can change \n",
    "trim = 10\n",
    "threshold = 0.5\n",
    "\n",
    "ncol = 50\n",
    "nrow = 100\n",
    "\n",
    "image = imageio.imread(filepath)\n",
    "image = color.rgb2gray(image[trim:-trim, trim:-trim])\n",
    "image = np.fliplr(image.T)\n",
    "\n",
    "image = 1.0*(image > float(threshold)) # binarize\n",
    "scale = image.shape[1]/1./nrow\n",
    "\n",
    "y = np.arange(0, image.shape[0])\n",
    "x = np.arange(0, image.shape[1])\n",
    "interpolating_function = RegularGridInterpolator((y, x), image)\n",
    "\n",
    "xv = np.arange(0, image.shape[0], scale)\n",
    "yv = np.arange(0, image.shape[1], scale)\n",
    "\n",
    "xv, yv = np.meshgrid(xv,yv)\n",
    "image2 = interpolating_function((xv, yv)).T   \n",
    "\n",
    "\n",
    "isveg = np.zeros([ncol+1, nrow+1])\n",
    "nx = min(ncol, image2.shape[0])\n",
    "ny = min(nrow, image2.shape[1])\n",
    "\n",
    "isveg[:nx, :ny] = image2[:nx, :ny]\n"
   ]
  },
  {
   "cell_type": "code",
   "execution_count": 10,
   "metadata": {},
   "outputs": [
    {
     "name": "stdout",
     "output_type": "stream",
     "text": [
      "scaled image shape= (49, 100)\n",
      "input  veg shape= (51, 101)\n"
     ]
    },
    {
     "data": {
      "image/png": "[encoded data removed]",
      "text/plain": [
       "<Figure size 720x360 with 3 Axes>"
      ]
     },
     "metadata": {},
     "output_type": "display_data"
    }
   ],
   "source": [
    "\n",
    "fig= plt.figure(figsize = (10,5))\n",
    "ax = fig.add_subplot(121)                       \n",
    "plt.subplots_adjust(wspace = 0.3)\n",
    "# plt.axis('off')\n",
    "im = ax.pcolormesh(image.T, cmap = 'Greens')\n",
    "divider = make_axes_locatable(ax)\n",
    "cax = divider.append_axes(\"right\", size=\"5%\", pad=0.05)\n",
    "plt.colorbar(im, cax=cax)    \n",
    "ax.set_title('Input Image')\n",
    "\n",
    "ax = fig.add_subplot(122)\n",
    "\n",
    "im = ax.pcolormesh(isveg.T, cmap = 'Greens')\n",
    "divider = make_axes_locatable(ax)\n",
    " \n",
    "ax.set_title('Regridded')\n",
    "\n",
    "print 'scaled image shape=' , image2.shape\n",
    "print 'input  veg shape=' ,  isveg.shape\n"
   ]
  },
  {
   "cell_type": "code",
   "execution_count": null,
   "metadata": {},
   "outputs": [],
   "source": []
  }
 ],
 "metadata": {
  "kernelspec": {
   "display_name": "Python 2",
   "language": "python",
   "name": "python2"
  },
  "language_info": {
   "codemirror_mode": {
    "name": "ipython",
    "version": 2
   },
   "file_extension": ".py",
   "mimetype": "text/x-python",
   "name": "python",
   "nbconvert_exporter": "python",
   "pygments_lexer": "ipython2",
   "version": "2.7.15"
  }
 },
 "nbformat": 4,
 "nbformat_minor": 2
}
